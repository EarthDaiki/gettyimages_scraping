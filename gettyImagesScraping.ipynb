{
 "cells": [
  {
   "cell_type": "code",
   "execution_count": 1,
   "metadata": {},
   "outputs": [],
   "source": [
    "from bs4 import BeautifulSoup\n",
    "\n",
    "import requests\n",
    "\n",
    "from selenium import webdriver\n",
    "from selenium.webdriver.common.keys import Keys\n",
    "from selenium.webdriver.common.by import By\n",
    "from selenium.webdriver.support.wait import WebDriverWait\n",
    "from selenium.webdriver.support import expected_conditions as EC\n",
    "from selenium.webdriver.common.action_chains import ActionChains\n",
    "\n",
    "from webdriver_manager.chrome import ChromeDriverManager\n",
    "\n",
    "import os\n",
    "\n",
    "from time import sleep"
   ]
  },
  {
   "cell_type": "code",
   "execution_count": 4,
   "metadata": {},
   "outputs": [],
   "source": [
    "sample = \"getty images url\"\n",
    "keyword = \"keyword will be a path name\"\n",
    "\n",
    "\n",
    "# pages you want to scrap\n",
    "times = 4"
   ]
  },
  {
   "cell_type": "code",
   "execution_count": null,
   "metadata": {},
   "outputs": [],
   "source": [
    "img_data_list = []\n",
    "\n",
    "def main():\n",
    "    driver = webdriver.Chrome(ChromeDriverManager().install())\n",
    "    website(driver)\n",
    "    for i in range(times):\n",
    "        getImg(driver)\n",
    "        next(driver)\n",
    "    saveImg()\n",
    "\n",
    "def website(driver):\n",
    "    driver.get(sample)\n",
    "\n",
    "def getImg(driver):\n",
    "    sleep(2)\n",
    "    imgs = driver.find_element(By.CSS_SELECTOR, 'div.Gallery-module__columnContainer___LqU0P')\n",
    "    imgs = imgs.find_elements(By.TAG_NAME, 'img')\n",
    "    for i, img in enumerate(imgs):\n",
    "        sleep(0.1)\n",
    "        img_data = img.get_attribute('src')\n",
    "        if not img_data in img_data_list:\n",
    "            img_data_list.append(img_data)\n",
    "            print(img_data)\n",
    "\n",
    "def scroll(driver):\n",
    "    last = ''\n",
    "    imgs = driver.find_elements(By.TAG_NAME, 'img')\n",
    "    for i, img in enumerate(imgs):\n",
    "        last = img\n",
    "    actions = ActionChains(driver)\n",
    "    actions.move_to_element(last).perform()\n",
    "\n",
    "def next(driver):\n",
    "    driver.find_element(By.CSS_SELECTOR, 'button.PaginationRow-module__button___QQbMu.PaginationRow-module__nextButton___gH3HZ').click()\n",
    "\n",
    "def saveImg():\n",
    "    if not os.path.isfile(f'./images/{keyword}'):\n",
    "        os.mkdir(f'./images/{keyword}')\n",
    "    for i, img_data in enumerate(img_data_list):\n",
    "        img_data = requests.get(img_data).content\n",
    "        with open(f'./images/{keyword}/{keyword}{i}.png', 'wb') as new_file:\n",
    "            new_file.write(img_data)\n",
    "\n",
    "if __name__ == \"__main__\":\n",
    "    main()"
   ]
  }
 ],
 "metadata": {
  "kernelspec": {
   "display_name": "base",
   "language": "python",
   "name": "python3"
  },
  "language_info": {
   "codemirror_mode": {
    "name": "ipython",
    "version": 3
   },
   "file_extension": ".py",
   "mimetype": "text/x-python",
   "name": "python",
   "nbconvert_exporter": "python",
   "pygments_lexer": "ipython3",
   "version": "3.9.13 (main, Aug 25 2022, 18:29:29) \n[Clang 12.0.0 ]"
  },
  "orig_nbformat": 4,
  "vscode": {
   "interpreter": {
    "hash": "40d3a090f54c6569ab1632332b64b2c03c39dcf918b08424e98f38b5ae0af88f"
   }
  }
 },
 "nbformat": 4,
 "nbformat_minor": 2
}
