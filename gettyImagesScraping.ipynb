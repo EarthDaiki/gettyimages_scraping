{
 "cells": [
  {
   "cell_type": "code",
   "execution_count": 4,
   "metadata": {},
   "outputs": [],
   "source": [
    "from bs4 import BeautifulSoup\n",
    "\n",
    "import requests\n",
    "\n",
    "from selenium import webdriver\n",
    "from selenium.webdriver.common.keys import Keys\n",
    "from selenium.webdriver.common.by import By\n",
    "from selenium.webdriver.support.wait import WebDriverWait\n",
    "from selenium.webdriver.support import expected_conditions as EC\n",
    "from selenium.webdriver.common.action_chains import ActionChains\n",
    "\n",
    "from webdriver_manager.chrome import ChromeDriverManager\n",
    "\n",
    "import os\n",
    "\n",
    "from time import sleep"
   ]
  },
  {
   "cell_type": "code",
   "execution_count": 59,
   "metadata": {},
   "outputs": [],
   "source": [
    "sample = \"getty images url\"\n",
    "keyword = \"search keyword\"\n",
    "\n",
    "\n",
    "# pages you want to scrap\n",
    "times = 2\n",
    "count = times"
   ]
  },
  {
   "cell_type": "code",
   "execution_count": null,
   "metadata": {},
   "outputs": [],
   "source": [
    "img_data_list = []\n",
    "\n",
    "def main():\n",
    "    global count\n",
    "    driver = webdriver.Chrome(ChromeDriverManager().install())\n",
    "    website(driver)\n",
    "    for i in range(times):\n",
    "        getImg(driver)\n",
    "        count = count - 1\n",
    "        if count == 1:\n",
    "            next(driver)\n",
    "    saveImg(f'getty_images/images/{keyword}')\n",
    "\n",
    "def website(driver):\n",
    "    driver.get(sample)\n",
    "\n",
    "def getImg(driver):\n",
    "    sleep(2)\n",
    "    imgs = driver.find_element(By.CSS_SELECTOR, 'div.Gallery-module__columnContainer___LqU0P')\n",
    "    imgs = imgs.find_elements(By.TAG_NAME, 'img')\n",
    "    for i, img in enumerate(imgs):\n",
    "        sleep(0.1)\n",
    "        img_data = img.get_attribute('src')\n",
    "        if not img_data in img_data_list:\n",
    "            img_data_list.append(img_data)\n",
    "            print(img_data)\n",
    "\n",
    "def next(driver):\n",
    "    sleep(2)\n",
    "    element = driver.find_element(By.CSS_SELECTOR, 'button[title=\"Next page\"]')\n",
    "    driver.execute_script(\"arguments[0].click();\", element)\n",
    "\n",
    "def saveImg(dir_path):\n",
    "    if not os.path.exists(dir_path):\n",
    "        os.makedirs(dir_path)\n",
    "    for i, img_data in enumerate(img_data_list):\n",
    "        img_data = requests.get(img_data).content\n",
    "        with open(f'{dir_path}/{keyword}{i}.png', 'wb') as new_file:\n",
    "            new_file.write(img_data)\n",
    "\n",
    "if __name__ == \"__main__\":\n",
    "    main()"
   ]
  }
 ],
 "metadata": {
  "kernelspec": {
   "display_name": "Python 3.9.13 ('base')",
   "language": "python",
   "name": "python3"
  },
  "language_info": {
   "codemirror_mode": {
    "name": "ipython",
    "version": 3
   },
   "file_extension": ".py",
   "mimetype": "text/x-python",
   "name": "python",
   "nbconvert_exporter": "python",
   "pygments_lexer": "ipython3",
   "version": "3.9.13"
  },
  "orig_nbformat": 4,
  "vscode": {
   "interpreter": {
    "hash": "ad2bdc8ecc057115af97d19610ffacc2b4e99fae6737bb82f5d7fb13d2f2c186"
   }
  }
 },
 "nbformat": 4,
 "nbformat_minor": 2
}
